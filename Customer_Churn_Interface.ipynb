{
  "nbformat": 4,
  "nbformat_minor": 0,
  "metadata": {
    "colab": {
      "provenance": [],
      "authorship_tag": "ABX9TyNkhP7aJTBdqYH2PtAyen9q",
      "include_colab_link": true
    },
    "kernelspec": {
      "name": "python3",
      "display_name": "Python 3"
    },
    "language_info": {
      "name": "python"
    }
  },
  "cells": [
    {
      "cell_type": "markdown",
      "metadata": {
        "id": "view-in-github",
        "colab_type": "text"
      },
      "source": [
        "<a href=\"https://colab.research.google.com/github/Sanjivkumar100/Customer_churn_Predictor/blob/main/Customer_Churn_Interface.ipynb\" target=\"_parent\"><img src=\"https://colab.research.google.com/assets/colab-badge.svg\" alt=\"Open In Colab\"/></a>"
      ]
    },
    {
      "cell_type": "code",
      "source": [
        "from google.colab import drive\n",
        "drive.mount('/content/drive')"
      ],
      "metadata": {
        "colab": {
          "base_uri": "https://localhost:8080/"
        },
        "id": "ICR_46572Iy7",
        "outputId": "e17c8529-caa4-4dc4-a62a-80d533987344"
      },
      "execution_count": null,
      "outputs": [
        {
          "output_type": "stream",
          "name": "stdout",
          "text": [
            "Mounted at /content/drive\n"
          ]
        }
      ]
    },
    {
      "cell_type": "code",
      "execution_count": 9,
      "metadata": {
        "id": "iV5WdDdQmUqd",
        "colab": {
          "base_uri": "https://localhost:8080/",
          "height": 474
        },
        "outputId": "1ccb4dd0-cc89-471c-8d69-87fc56dd1ffd"
      },
      "outputs": [
        {
          "output_type": "stream",
          "name": "stdout",
          "text": [
            "Colab notebook detected. This cell will run indefinitely so that you can see errors and logs. To turn off, set debug=False in launch().\n",
            "* Running on public URL: https://f831ced9c78d0981df.gradio.live\n",
            "\n",
            "This share link expires in 1 week. For free permanent hosting and GPU upgrades, run `gradio deploy` from the terminal in the working directory to deploy to Hugging Face Spaces (https://huggingface.co/spaces)\n"
          ]
        },
        {
          "output_type": "error",
          "ename": "KeyboardInterrupt",
          "evalue": "",
          "traceback": [
            "\u001b[0;31m---------------------------------------------------------------------------\u001b[0m",
            "\u001b[0;31mKeyboardInterrupt\u001b[0m                         Traceback (most recent call last)",
            "\u001b[0;32m/tmp/ipython-input-9-210343111.py\u001b[0m in \u001b[0;36m<cell line: 0>\u001b[0;34m()\u001b[0m\n\u001b[1;32m     58\u001b[0m \u001b[0;34m\u001b[0m\u001b[0m\n\u001b[1;32m     59\u001b[0m \u001b[0;31m# Launch the app\u001b[0m\u001b[0;34m\u001b[0m\u001b[0;34m\u001b[0m\u001b[0m\n\u001b[0;32m---> 60\u001b[0;31m \u001b[0minterface\u001b[0m\u001b[0;34m.\u001b[0m\u001b[0mlaunch\u001b[0m\u001b[0;34m(\u001b[0m\u001b[0mshare\u001b[0m\u001b[0;34m=\u001b[0m\u001b[0;32mTrue\u001b[0m\u001b[0;34m,\u001b[0m\u001b[0mdebug\u001b[0m\u001b[0;34m=\u001b[0m\u001b[0;32mTrue\u001b[0m\u001b[0;34m,\u001b[0m\u001b[0minline\u001b[0m\u001b[0;34m=\u001b[0m\u001b[0;32mTrue\u001b[0m\u001b[0;34m)\u001b[0m\u001b[0;34m\u001b[0m\u001b[0;34m\u001b[0m\u001b[0m\n\u001b[0m",
            "\u001b[0;32m/usr/local/lib/python3.11/dist-packages/gradio/blocks.py\u001b[0m in \u001b[0;36mlaunch\u001b[0;34m(self, inline, inbrowser, share, debug, max_threads, auth, auth_message, prevent_thread_lock, show_error, server_name, server_port, height, width, favicon_path, ssl_keyfile, ssl_certfile, ssl_keyfile_password, ssl_verify, quiet, show_api, allowed_paths, blocked_paths, root_path, app_kwargs, state_session_capacity, share_server_address, share_server_protocol, share_server_tls_certificate, auth_dependency, max_file_size, enable_monitoring, strict_cors, node_server_name, node_port, ssr_mode, pwa, mcp_server, _frontend, i18n)\u001b[0m\n\u001b[1;32m   2904\u001b[0m                 \u001b[0;32mif\u001b[0m \u001b[0mself\u001b[0m\u001b[0;34m.\u001b[0m\u001b[0mshare\u001b[0m \u001b[0;32mand\u001b[0m \u001b[0mself\u001b[0m\u001b[0;34m.\u001b[0m\u001b[0mshare_url\u001b[0m\u001b[0;34m:\u001b[0m\u001b[0;34m\u001b[0m\u001b[0;34m\u001b[0m\u001b[0m\n\u001b[1;32m   2905\u001b[0m                     \u001b[0;32mwhile\u001b[0m \u001b[0;32mnot\u001b[0m \u001b[0mnetworking\u001b[0m\u001b[0;34m.\u001b[0m\u001b[0murl_ok\u001b[0m\u001b[0;34m(\u001b[0m\u001b[0mself\u001b[0m\u001b[0;34m.\u001b[0m\u001b[0mshare_url\u001b[0m\u001b[0;34m)\u001b[0m\u001b[0;34m:\u001b[0m\u001b[0;34m\u001b[0m\u001b[0;34m\u001b[0m\u001b[0m\n\u001b[0;32m-> 2906\u001b[0;31m                         \u001b[0mtime\u001b[0m\u001b[0;34m.\u001b[0m\u001b[0msleep\u001b[0m\u001b[0;34m(\u001b[0m\u001b[0;36m0.25\u001b[0m\u001b[0;34m)\u001b[0m\u001b[0;34m\u001b[0m\u001b[0;34m\u001b[0m\u001b[0m\n\u001b[0m\u001b[1;32m   2907\u001b[0m                     artifact = HTML(\n\u001b[1;32m   2908\u001b[0m                         \u001b[0;34mf'<div><iframe src=\"{self.share_url}\" width=\"{self.width}\" height=\"{self.height}\" allow=\"autoplay; camera; microphone; clipboard-read; clipboard-write;\" frameborder=\"0\" allowfullscreen></iframe></div>'\u001b[0m\u001b[0;34m\u001b[0m\u001b[0;34m\u001b[0m\u001b[0m\n",
            "\u001b[0;31mKeyboardInterrupt\u001b[0m: "
          ]
        }
      ],
      "source": [
        "import gradio as gr\n",
        "import pickle as pkl\n",
        "import pandas as pd\n",
        "model = pkl.load(open('/content/drive/MyDrive/customer_churn_model.pkl', 'rb'))\n",
        "standard_scaler=pkl.load(open('/content/drive/MyDrive/customer_churn_scaler.pkl','rb'))\n",
        "label_encoder=pkl.load(open('/content/drive/MyDrive/customer_churn_labelencoder','rb'))\n",
        "\n",
        "\n",
        "label_maps = {\n",
        "    'Contract': {'Month-to-month': 0, 'One year': 1, 'Two year': 2},\n",
        "    'PaymentMethod': {'Electronic check': 0, 'Mailed check': 1, 'Bank transfer': 2, 'Credit card': 3},\n",
        "    'OnlineSecurity': {'No': 0, 'Yes': 1},\n",
        "    'TechSupport': {'No': 0, 'Yes': 1},\n",
        "    'gender': {'Male': 0, 'Female': 1}\n",
        "}\n",
        "\n",
        "# Prediction function\n",
        "def predict_churn(TotalCharges, MonthlyCharges, tenure, Contract, PaymentMethod,\n",
        "                  OnlineSecurity, TechSupport, gender):\n",
        "\n",
        "    # Encode inputs\n",
        "    data = {\n",
        "        'TotalCharges': float(TotalCharges),\n",
        "        'MonthlyCharges': float(MonthlyCharges),\n",
        "        'tenure': float(tenure),\n",
        "        'Contract': label_maps['Contract'][Contract],\n",
        "        'PaymentMethod': label_maps['PaymentMethod'][PaymentMethod],\n",
        "        'OnlineSecurity': label_maps['OnlineSecurity'][OnlineSecurity],\n",
        "        'TechSupport': label_maps['TechSupport'][TechSupport],\n",
        "        'gender': label_maps['gender'][gender]\n",
        "    }\n",
        "\n",
        "    # Create DataFrame\n",
        "    input_df = pd.DataFrame([data])\n",
        "\n",
        "    # Predict\n",
        "    prediction = model.predict(input_df)[0]\n",
        "\n",
        "    return \"Churn\" if prediction == 1 else \"Not Churn\"\n",
        "\n",
        "# Gradio UI\n",
        "interface = gr.Interface(\n",
        "    fn=predict_churn,\n",
        "    inputs=[\n",
        "        gr.Number(label=\"Total Charges\"),\n",
        "        gr.Number(label=\"Monthly Charges\"),\n",
        "        gr.Number(label=\"Tenure (months)\"),\n",
        "        gr.Dropdown(choices=[\"Month-to-month\", \"One year\", \"Two year\"], label=\"Contract\"),\n",
        "        gr.Dropdown(choices=[\"Electronic check\", \"Mailed check\", \"Bank transfer\", \"Credit card\"], label=\"Payment Method\"),\n",
        "        gr.Dropdown(choices=[\"Yes\", \"No\"], label=\"Online Security\"),\n",
        "        gr.Dropdown(choices=[\"Yes\", \"No\"], label=\"Tech Support\"),\n",
        "        gr.Dropdown(choices=[\"Male\", \"Female\"], label=\"Gender\")\n",
        "    ],\n",
        "    outputs=gr.Text(label=\"Churn Prediction\"),\n",
        "    title=\"📉 Customer Churn Predictor (Gradio)\",\n",
        "    description=\"Predict if a customer will churn based on service and account details.\"\n",
        ")\n",
        "\n",
        "# Launch the app\n",
        "interface.launch(share=True,debug=True,inline=True)\n"
      ]
    }
  ]
}